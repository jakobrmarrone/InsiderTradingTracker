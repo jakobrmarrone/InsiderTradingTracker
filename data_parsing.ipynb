{
 "cells": [
  {
   "cell_type": "code",
   "execution_count": null,
   "id": "47ea1d6c",
   "metadata": {},
   "outputs": [],
   "source": [
    "from sec_api import EdgarEntitiesApi\n",
    "import pandas as pd\n",
    "import requests\n",
    "import os\n",
    "from dotenv import load_dotenv\n",
    "import json\n",
    "import asyncio\n",
    "import websockets\n"
   ]
  },
  {
   "cell_type": "code",
   "execution_count": null,
   "id": "7becc93c",
   "metadata": {},
   "outputs": [],
   "source": [
    "# Step 2: Load environment variables\n",
    "load_dotenv('PATH TO YOUR API KEY THAT')\n",
    "\n",
    "api_key = os.getenv('SEC_API_KEY')\n",
    "url = \"https://api.sec-api.io/insider-trading\"\n",
    "headers = {\n",
    "    \"Authorization\": api_key\n",
    "\n",
    "}\n",
    "\n"
   ]
  },
  {
   "cell_type": "code",
   "execution_count": null,
   "id": "59dd617a",
   "metadata": {},
   "outputs": [],
   "source": [
    "# Step 1: Import libraries\n",
    "import requests\n",
    "import os\n",
    "from dotenv import load_dotenv\n",
    "\n",
    "# Step 2: Load environment variables\n",
    "load_dotenv()\n",
    "\n",
    "# Step 3: Get the API key\n",
    "api_key = os.getenv('SEC_API_KEY')\n",
    "\n",
    "# Step 4: Check if API key was loaded\n",
    "if not api_key:\n",
    "    print(\"Error: SEC_API_KEY not found in environment variables\")\n",
    "    exit()\n",
    "\n",
    "# Step 5: Set up the request\n",
    "url = \"https://api.sec-api.io/insider-trading\"\n",
    "headers = {\n",
    "    \"Authorization\": api_key,\n",
    "    \"Content-Type\": \"application/json\"  # Usually needed for POST requests\n",
    "}\n",
    "\n",
    "{\n",
    "    \"query\": \"issuer.tradingSymbol:TSLA\",\n",
    "    \"from\": \"0\",\n",
    "    \"size\": \"50\",\n",
    "    \"sort\": [{ \"filedAt\": { \"order\": \"desc\" } }]\n",
    "  }\n"
   ]
  },
  {
   "cell_type": "code",
   "execution_count": null,
   "id": "08715a89",
   "metadata": {},
   "outputs": [],
   "source": [
    "import os, requests\n",
    "\n",
    "API_KEY = os.getenv(\"SEC_API_KEY\")\n",
    "url = \"https://api.sec-api.io/insider-trading\"\n",
    "\n",
    "payload = {\n",
    "    \"query\": \"issuer.tradingSymbol:AAPL AND documentType:4\",\n",
    "    \"from\": 0,\n",
    "    \"size\": 10,\n",
    "    \"sort\": [{\"filedAt\": {\"order\": \"desc\"}}]\n",
    "}\n",
    "\n",
    "headers = {\n",
    "    \"Authorization\": API_KEY,\n",
    "    \"Content-Type\": \"application/json\"\n",
    "}\n",
    "\n",
    "r = requests.post(url, headers=headers, json=payload, timeout=20)\n",
    "r.raise_for_status()\n",
    "data = r.json()\n",
    "print(len(data.get(\"transactions\", [])), \"transactions\")\n"
   ]
  },
  {
   "cell_type": "code",
   "execution_count": null,
   "id": "ff65f569",
   "metadata": {},
   "outputs": [],
   "source": [
    "v = data.get('transactions')"
   ]
  },
  {
   "cell_type": "code",
   "execution_count": null,
   "id": "1ec1300e",
   "metadata": {},
   "outputs": [],
   "source": [
    "#Save the JSON file so I can mess around with the formatting and such \n",
    "with open(\"insider_trades.json\", \"w\") as f:\n",
    "    json.dump(data, f, indent=2) "
   ]
  },
  {
   "cell_type": "code",
   "execution_count": null,
   "id": "092e25b5",
   "metadata": {},
   "outputs": [],
   "source": [
    "rows = []\n",
    "\n",
    "with open('insider_trades.json', 'r') as f:\n",
    "    data = json.load(f)\n",
    "    for txn in data.get(\"transactions\", []):\n",
    "        owner = txn.get(\"reportingOwner\", {}).get(\"name\")\n",
    "        ticker = txn.get(\"issuer\", {}).get(\"tradingSymbol\")\n",
    "        shares = txn.get(\"nonDerivativeTable\", {}).get(\"transactions\", [])[0].get(\"amounts\", {}).get(\"shares\")\n",
    "\n",
    "        rows.append({\n",
    "            \"Owner\": owner,\n",
    "            \"Ticker\": ticker,\n",
    "            \"Shares\": shares,\n",
    "        })\n",
    "\n",
    "\n",
    "insider_data = pd.DataFrame(rows)\n",
    "insider_data"
   ]
  },
  {
   "cell_type": "code",
   "execution_count": null,
   "id": "757c800f",
   "metadata": {},
   "outputs": [],
   "source": [
    "import json, os, pathlib\n",
    "\n",
    "print(\"CWD:\", os.getcwd())\n",
    "print(\"File exists?\", pathlib.Path(\"insider_trades.json\").exists())\n",
    "\n",
    "with open(\"insider_trades.json\", \"r\") as f:\n",
    "    payload = json.load(f)\n",
    "\n",
    "print(\"Top-level type:\", type(payload))\n",
    "print(\"Top-level keys (if dict):\", list(payload)[:12] if isinstance(payload, dict) else \"n/a\")\n",
    "print(\"transactions count:\", len(payload.get(\"transactions\", [])) if isinstance(payload, dict) else \"n/a\")\n"
   ]
  },
  {
   "cell_type": "code",
   "execution_count": null,
   "id": "b49ac675",
   "metadata": {},
   "outputs": [],
   "source": [
    "with open(\"insider_trades.json\", \"r\") as f:\n",
    "    payload = json.load(f)\n",
    "\n",
    "for i, filing in enumerate(payload.get(\"transactions\", []), start=1):\n",
    "    nd = (filing.get(\"nonDerivativeTable\") or {}).get(\"transactions\") or []\n",
    "    dv = (filing.get(\"derivativeTable\")    or {}).get(\"transactions\") or []\n",
    "    print(f\"Filing {i}: non-deriv legs = {len(nd)}, deriv legs = {len(dv)}\")\n",
    "    if i >= 10:  # just peek at a few\n",
    "        break\n"
   ]
  },
  {
   "cell_type": "code",
   "execution_count": null,
   "id": "883925b1",
   "metadata": {},
   "outputs": [],
   "source": [
    "import json\n",
    "from flattener import flatten_insider_payload\n",
    "\n",
    "with open(\"insider_trades.json\",\"r\") as f:\n",
    "    payload = json.load(f)\n",
    "\n",
    "df = flatten_insider_payload(payload, debug=True)\n",
    "\n",
    "\n",
    "df.columns\n",
    "\n",
    "\n"
   ]
  },
  {
   "cell_type": "code",
   "execution_count": null,
   "id": "053d0755",
   "metadata": {},
   "outputs": [],
   "source": []
  },
  {
   "cell_type": "code",
   "execution_count": null,
   "id": "73417392",
   "metadata": {},
   "outputs": [],
   "source": []
  }
 ],
 "metadata": {
  "kernelspec": {
   "display_name": "insider_tracking",
   "language": "python",
   "name": "python3"
  },
  "language_info": {
   "codemirror_mode": {
    "name": "ipython",
    "version": 3
   },
   "file_extension": ".py",
   "mimetype": "text/x-python",
   "name": "python",
   "nbconvert_exporter": "python",
   "pygments_lexer": "ipython3",
   "version": "3.13.5"
  }
 },
 "nbformat": 4,
 "nbformat_minor": 5
}
